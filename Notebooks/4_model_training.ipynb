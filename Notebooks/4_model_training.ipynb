{
 "cells": [
  {
   "cell_type": "markdown",
   "id": "31b639ed",
   "metadata": {},
   "source": [
    "# Import Packages"
   ]
  },
  {
   "cell_type": "code",
   "execution_count": 1,
   "id": "f964fbd2",
   "metadata": {},
   "outputs": [],
   "source": [
    "import numpy as np\n",
    "import pandas as pd\n",
    "import matplotlib.pyplot as plt\n",
    "import seaborn as sns\n",
    "sns.set()\n",
    "%matplotlib inline\n",
    "\n",
    "import warnings\n",
    "warnings.filterwarnings('ignore')\n",
    "\n",
    "# ML packages\n",
    "from sklearn.model_selection import KFold\n",
    "from sklearn.model_selection import cross_val_score\n",
    "from sklearn.metrics import mean_squared_error, r2_score\n",
    "from sklearn.linear_model import LinearRegression, Ridge\n",
    "from sklearn.pipeline import make_pipeline, Pipeline\n",
    "from sklearn.preprocessing import MinMaxScaler, RobustScaler, StandardScaler\n",
    "from sklearn.model_selection import GridSearchCV, RandomizedSearchCV\n"
   ]
  },
  {
   "cell_type": "markdown",
   "id": "0b65761b",
   "metadata": {},
   "source": [
    "# Read in Data"
   ]
  },
  {
   "cell_type": "code",
   "execution_count": 2,
   "id": "00e86a7d",
   "metadata": {},
   "outputs": [
    {
     "name": "stdout",
     "output_type": "stream",
     "text": [
      "C:\\Users\\sriha\\OneDrive\\Desktop\\DS\\My work\\life-expectancy\n"
     ]
    }
   ],
   "source": [
    "# Set working directory\n",
    "%cd C:/Users/sriha/OneDrive/Desktop/DS/My work/life-expectancy\n",
    "    \n",
    "# Unpickle engineered train data\n",
    "X_train = pd.read_pickle('Data/X_train_engineered.pkl')\n",
    "\n",
    "# Unpickle engineered test data\n",
    "X_test = pd.read_pickle('Data/X_test_engineered.pkl')\n",
    "\n",
    "# Import target variables\n",
    "y_train = pd.read_pickle('Data/y_train.pkl')\n",
    "y_test = pd.read_pickle('Data/y_test.pkl')"
   ]
  },
  {
   "cell_type": "code",
   "execution_count": 3,
   "id": "80f679a5",
   "metadata": {},
   "outputs": [
    {
     "data": {
      "text/html": [
       "<div>\n",
       "<style scoped>\n",
       "    .dataframe tbody tr th:only-of-type {\n",
       "        vertical-align: middle;\n",
       "    }\n",
       "\n",
       "    .dataframe tbody tr th {\n",
       "        vertical-align: top;\n",
       "    }\n",
       "\n",
       "    .dataframe thead th {\n",
       "        text-align: right;\n",
       "    }\n",
       "</style>\n",
       "<table border=\"1\" class=\"dataframe\">\n",
       "  <thead>\n",
       "    <tr style=\"text-align: right;\">\n",
       "      <th></th>\n",
       "      <th>Year</th>\n",
       "      <th>Adult Mortality</th>\n",
       "      <th>infant deaths</th>\n",
       "      <th>Alcohol</th>\n",
       "      <th>percentage expenditure</th>\n",
       "      <th>Hepatitis B</th>\n",
       "      <th>Measles</th>\n",
       "      <th>under-five deaths</th>\n",
       "      <th>Polio</th>\n",
       "      <th>Total expenditure</th>\n",
       "      <th>Diphtheria</th>\n",
       "      <th>HIV/AIDS</th>\n",
       "      <th>GDP</th>\n",
       "      <th>thinness  1-19 years</th>\n",
       "      <th>thinness 5-9 years</th>\n",
       "      <th>Income composition of resources</th>\n",
       "      <th>Schooling</th>\n",
       "      <th>Status_Developing</th>\n",
       "    </tr>\n",
       "  </thead>\n",
       "  <tbody>\n",
       "    <tr>\n",
       "      <th>615</th>\n",
       "      <td>2008</td>\n",
       "      <td>5.826000</td>\n",
       "      <td>2.197225</td>\n",
       "      <td>2.58</td>\n",
       "      <td>0.000000</td>\n",
       "      <td>4.304065</td>\n",
       "      <td>1.098612</td>\n",
       "      <td>2.484907</td>\n",
       "      <td>4.356709</td>\n",
       "      <td>2.90</td>\n",
       "      <td>4.382027</td>\n",
       "      <td>1.667707</td>\n",
       "      <td>7.377623</td>\n",
       "      <td>2.240710</td>\n",
       "      <td>2.197225</td>\n",
       "      <td>0.423305</td>\n",
       "      <td>10.0</td>\n",
       "      <td>1</td>\n",
       "    </tr>\n",
       "    <tr>\n",
       "      <th>2909</th>\n",
       "      <td>2012</td>\n",
       "      <td>5.857933</td>\n",
       "      <td>3.401197</td>\n",
       "      <td>2.59</td>\n",
       "      <td>5.287839</td>\n",
       "      <td>4.369448</td>\n",
       "      <td>6.799056</td>\n",
       "      <td>3.784190</td>\n",
       "      <td>2.079442</td>\n",
       "      <td>4.91</td>\n",
       "      <td>4.369448</td>\n",
       "      <td>1.887070</td>\n",
       "      <td>7.459302</td>\n",
       "      <td>2.014903</td>\n",
       "      <td>1.987874</td>\n",
       "      <td>0.440832</td>\n",
       "      <td>12.3</td>\n",
       "      <td>1</td>\n",
       "    </tr>\n",
       "    <tr>\n",
       "      <th>2812</th>\n",
       "      <td>2013</td>\n",
       "      <td>4.770685</td>\n",
       "      <td>0.693147</td>\n",
       "      <td>5.82</td>\n",
       "      <td>6.181680</td>\n",
       "      <td>4.553877</td>\n",
       "      <td>0.000000</td>\n",
       "      <td>0.693147</td>\n",
       "      <td>4.553877</td>\n",
       "      <td>8.68</td>\n",
       "      <td>4.553877</td>\n",
       "      <td>0.095310</td>\n",
       "      <td>9.734018</td>\n",
       "      <td>0.916291</td>\n",
       "      <td>0.875469</td>\n",
       "      <td>0.581098</td>\n",
       "      <td>15.5</td>\n",
       "      <td>1</td>\n",
       "    </tr>\n",
       "    <tr>\n",
       "      <th>1825</th>\n",
       "      <td>2003</td>\n",
       "      <td>3.135494</td>\n",
       "      <td>3.663562</td>\n",
       "      <td>0.20</td>\n",
       "      <td>1.332621</td>\n",
       "      <td>1.098612</td>\n",
       "      <td>9.498897</td>\n",
       "      <td>3.931826</td>\n",
       "      <td>4.343805</td>\n",
       "      <td>5.48</td>\n",
       "      <td>4.369448</td>\n",
       "      <td>0.095310</td>\n",
       "      <td>5.540181</td>\n",
       "      <td>2.944439</td>\n",
       "      <td>2.975530</td>\n",
       "      <td>0.376380</td>\n",
       "      <td>9.2</td>\n",
       "      <td>1</td>\n",
       "    </tr>\n",
       "    <tr>\n",
       "      <th>497</th>\n",
       "      <td>2014</td>\n",
       "      <td>4.189655</td>\n",
       "      <td>1.098612</td>\n",
       "      <td>8.10</td>\n",
       "      <td>4.636574</td>\n",
       "      <td>4.025352</td>\n",
       "      <td>6.037871</td>\n",
       "      <td>1.098612</td>\n",
       "      <td>4.521789</td>\n",
       "      <td>1.45</td>\n",
       "      <td>4.521789</td>\n",
       "      <td>0.095310</td>\n",
       "      <td>6.301581</td>\n",
       "      <td>0.405465</td>\n",
       "      <td>0.405465</td>\n",
       "      <td>0.648150</td>\n",
       "      <td>15.9</td>\n",
       "      <td>1</td>\n",
       "    </tr>\n",
       "  </tbody>\n",
       "</table>\n",
       "</div>"
      ],
      "text/plain": [
       "      Year  Adult Mortality  infant deaths  Alcohol  percentage expenditure  \\\n",
       "615   2008         5.826000       2.197225     2.58                0.000000   \n",
       "2909  2012         5.857933       3.401197     2.59                5.287839   \n",
       "2812  2013         4.770685       0.693147     5.82                6.181680   \n",
       "1825  2003         3.135494       3.663562     0.20                1.332621   \n",
       "497   2014         4.189655       1.098612     8.10                4.636574   \n",
       "\n",
       "      Hepatitis B  Measles   under-five deaths      Polio  Total expenditure  \\\n",
       "615      4.304065  1.098612            2.484907  4.356709               2.90   \n",
       "2909     4.369448  6.799056            3.784190  2.079442               4.91   \n",
       "2812     4.553877  0.000000            0.693147  4.553877               8.68   \n",
       "1825     1.098612  9.498897            3.931826  4.343805               5.48   \n",
       "497      4.025352  6.037871            1.098612  4.521789               1.45   \n",
       "\n",
       "      Diphtheria    HIV/AIDS       GDP   thinness  1-19 years  \\\n",
       "615      4.382027   1.667707  7.377623               2.240710   \n",
       "2909     4.369448   1.887070  7.459302               2.014903   \n",
       "2812     4.553877   0.095310  9.734018               0.916291   \n",
       "1825     4.369448   0.095310  5.540181               2.944439   \n",
       "497      4.521789   0.095310  6.301581               0.405465   \n",
       "\n",
       "       thinness 5-9 years  Income composition of resources  Schooling  \\\n",
       "615              2.197225                         0.423305       10.0   \n",
       "2909             1.987874                         0.440832       12.3   \n",
       "2812             0.875469                         0.581098       15.5   \n",
       "1825             2.975530                         0.376380        9.2   \n",
       "497              0.405465                         0.648150       15.9   \n",
       "\n",
       "      Status_Developing  \n",
       "615                   1  \n",
       "2909                  1  \n",
       "2812                  1  \n",
       "1825                  1  \n",
       "497                   1  "
      ]
     },
     "metadata": {},
     "output_type": "display_data"
    },
    {
     "data": {
      "text/html": [
       "<div>\n",
       "<style scoped>\n",
       "    .dataframe tbody tr th:only-of-type {\n",
       "        vertical-align: middle;\n",
       "    }\n",
       "\n",
       "    .dataframe tbody tr th {\n",
       "        vertical-align: top;\n",
       "    }\n",
       "\n",
       "    .dataframe thead th {\n",
       "        text-align: right;\n",
       "    }\n",
       "</style>\n",
       "<table border=\"1\" class=\"dataframe\">\n",
       "  <thead>\n",
       "    <tr style=\"text-align: right;\">\n",
       "      <th></th>\n",
       "      <th>Year</th>\n",
       "      <th>Adult Mortality</th>\n",
       "      <th>infant deaths</th>\n",
       "      <th>Alcohol</th>\n",
       "      <th>percentage expenditure</th>\n",
       "      <th>Hepatitis B</th>\n",
       "      <th>Measles</th>\n",
       "      <th>under-five deaths</th>\n",
       "      <th>Polio</th>\n",
       "      <th>Total expenditure</th>\n",
       "      <th>Diphtheria</th>\n",
       "      <th>HIV/AIDS</th>\n",
       "      <th>GDP</th>\n",
       "      <th>thinness  1-19 years</th>\n",
       "      <th>thinness 5-9 years</th>\n",
       "      <th>Income composition of resources</th>\n",
       "      <th>Schooling</th>\n",
       "      <th>Status_Developing</th>\n",
       "    </tr>\n",
       "  </thead>\n",
       "  <tbody>\n",
       "    <tr>\n",
       "      <th>1831</th>\n",
       "      <td>2013</td>\n",
       "      <td>1.945910</td>\n",
       "      <td>0.693147</td>\n",
       "      <td>8.68</td>\n",
       "      <td>7.297112</td>\n",
       "      <td>3.951244</td>\n",
       "      <td>7.875879</td>\n",
       "      <td>0.693147</td>\n",
       "      <td>4.584967</td>\n",
       "      <td>11.40</td>\n",
       "      <td>4.584967</td>\n",
       "      <td>0.095310</td>\n",
       "      <td>10.850802</td>\n",
       "      <td>0.693147</td>\n",
       "      <td>0.641854</td>\n",
       "      <td>0.653366</td>\n",
       "      <td>18.1</td>\n",
       "      <td>0</td>\n",
       "    </tr>\n",
       "    <tr>\n",
       "      <th>893</th>\n",
       "      <td>2004</td>\n",
       "      <td>5.872118</td>\n",
       "      <td>5.384495</td>\n",
       "      <td>0.86</td>\n",
       "      <td>0.919072</td>\n",
       "      <td>4.269697</td>\n",
       "      <td>4.304065</td>\n",
       "      <td>5.837730</td>\n",
       "      <td>4.007333</td>\n",
       "      <td>4.23</td>\n",
       "      <td>1.609438</td>\n",
       "      <td>1.629241</td>\n",
       "      <td>4.918245</td>\n",
       "      <td>2.525729</td>\n",
       "      <td>2.509599</td>\n",
       "      <td>0.270027</td>\n",
       "      <td>5.4</td>\n",
       "      <td>1</td>\n",
       "    </tr>\n",
       "    <tr>\n",
       "      <th>1800</th>\n",
       "      <td>2011</td>\n",
       "      <td>5.594711</td>\n",
       "      <td>1.386294</td>\n",
       "      <td>7.84</td>\n",
       "      <td>2.185628</td>\n",
       "      <td>4.418841</td>\n",
       "      <td>4.382027</td>\n",
       "      <td>1.609438</td>\n",
       "      <td>4.454347</td>\n",
       "      <td>8.78</td>\n",
       "      <td>4.418841</td>\n",
       "      <td>1.740466</td>\n",
       "      <td>4.059950</td>\n",
       "      <td>2.388763</td>\n",
       "      <td>2.388763</td>\n",
       "      <td>0.477476</td>\n",
       "      <td>11.5</td>\n",
       "      <td>1</td>\n",
       "    </tr>\n",
       "    <tr>\n",
       "      <th>56</th>\n",
       "      <td>2007</td>\n",
       "      <td>5.929589</td>\n",
       "      <td>4.477337</td>\n",
       "      <td>6.35</td>\n",
       "      <td>5.224786</td>\n",
       "      <td>4.304065</td>\n",
       "      <td>6.922644</td>\n",
       "      <td>4.934474</td>\n",
       "      <td>4.330733</td>\n",
       "      <td>3.38</td>\n",
       "      <td>4.304065</td>\n",
       "      <td>1.280934</td>\n",
       "      <td>7.965489</td>\n",
       "      <td>2.360854</td>\n",
       "      <td>2.360854</td>\n",
       "      <td>0.374318</td>\n",
       "      <td>7.7</td>\n",
       "      <td>1</td>\n",
       "    </tr>\n",
       "    <tr>\n",
       "      <th>2860</th>\n",
       "      <td>2013</td>\n",
       "      <td>5.075174</td>\n",
       "      <td>2.302585</td>\n",
       "      <td>6.71</td>\n",
       "      <td>0.000000</td>\n",
       "      <td>4.418841</td>\n",
       "      <td>0.000000</td>\n",
       "      <td>2.397895</td>\n",
       "      <td>4.418841</td>\n",
       "      <td>4.94</td>\n",
       "      <td>4.418841</td>\n",
       "      <td>0.095310</td>\n",
       "      <td>7.747734</td>\n",
       "      <td>0.955511</td>\n",
       "      <td>0.916291</td>\n",
       "      <td>0.570980</td>\n",
       "      <td>14.2</td>\n",
       "      <td>1</td>\n",
       "    </tr>\n",
       "  </tbody>\n",
       "</table>\n",
       "</div>"
      ],
      "text/plain": [
       "      Year  Adult Mortality  infant deaths  Alcohol  percentage expenditure  \\\n",
       "1831  2013         1.945910       0.693147     8.68                7.297112   \n",
       "893   2004         5.872118       5.384495     0.86                0.919072   \n",
       "1800  2011         5.594711       1.386294     7.84                2.185628   \n",
       "56    2007         5.929589       4.477337     6.35                5.224786   \n",
       "2860  2013         5.075174       2.302585     6.71                0.000000   \n",
       "\n",
       "      Hepatitis B  Measles   under-five deaths      Polio  Total expenditure  \\\n",
       "1831     3.951244  7.875879            0.693147  4.584967              11.40   \n",
       "893      4.269697  4.304065            5.837730  4.007333               4.23   \n",
       "1800     4.418841  4.382027            1.609438  4.454347               8.78   \n",
       "56       4.304065  6.922644            4.934474  4.330733               3.38   \n",
       "2860     4.418841  0.000000            2.397895  4.418841               4.94   \n",
       "\n",
       "      Diphtheria    HIV/AIDS        GDP   thinness  1-19 years  \\\n",
       "1831     4.584967   0.095310  10.850802               0.693147   \n",
       "893      1.609438   1.629241   4.918245               2.525729   \n",
       "1800     4.418841   1.740466   4.059950               2.388763   \n",
       "56       4.304065   1.280934   7.965489               2.360854   \n",
       "2860     4.418841   0.095310   7.747734               0.955511   \n",
       "\n",
       "       thinness 5-9 years  Income composition of resources  Schooling  \\\n",
       "1831             0.641854                         0.653366       18.1   \n",
       "893              2.509599                         0.270027        5.4   \n",
       "1800             2.388763                         0.477476       11.5   \n",
       "56               2.360854                         0.374318        7.7   \n",
       "2860             0.916291                         0.570980       14.2   \n",
       "\n",
       "      Status_Developing  \n",
       "1831                  0  \n",
       "893                   1  \n",
       "1800                  1  \n",
       "56                    1  \n",
       "2860                  1  "
      ]
     },
     "metadata": {},
     "output_type": "display_data"
    }
   ],
   "source": [
    "display(X_train.head())\n",
    "display(X_test.head())"
   ]
  },
  {
   "cell_type": "markdown",
   "id": "507e6c59",
   "metadata": {},
   "source": [
    "# Train and Evaluate Models\n",
    "\n",
    "Let's say we pick the linear regression model for our purposes. Now we train our model of choice on the entire training set, and make predictions on the test set. "
   ]
  },
  {
   "cell_type": "code",
   "execution_count": 4,
   "id": "7845a869",
   "metadata": {},
   "outputs": [],
   "source": [
    "def evaluate_results(model, train_data, train_results, test_data, test_results):\n",
    "    \n",
    "    # Fit model\n",
    "    model.fit(train_data, train_results)\n",
    "    \n",
    "    # Make predictions\n",
    "    predictions = model.predict(test_data)\n",
    "    \n",
    "    # Evaluate results\n",
    "    print(\"MSE Score:\", format(mean_squared_error(test_results, predictions),'.3f'))\n",
    "    print(\"R2 Score:\", format(r2_score(y_test, predictions),'.3f'))\n",
    "    \n",
    "    # Visulaize results\n",
    "    plt.figure(figsize=(8,5))\n",
    "    plt.scatter(predictions,test_results)\n",
    "    plt.title('Predicted vs. Real y', fontsize=14)\n",
    "    plt.xlabel('Real y',fontsize=12)\n",
    "    plt.ylabel('Predicted y',fontsize=12)"
   ]
  },
  {
   "cell_type": "code",
   "execution_count": 5,
   "id": "c8e1f438",
   "metadata": {},
   "outputs": [
    {
     "name": "stdout",
     "output_type": "stream",
     "text": [
      "MSE Score: 13.983\n",
      "R2 Score: 0.837\n"
     ]
    },
    {
     "data": {
      "image/png": "[encoded data removed]",
      "text/plain": [
       "<Figure size 576x360 with 1 Axes>"
      ]
     },
     "metadata": {
      "needs_background": "light"
     },
     "output_type": "display_data"
    }
   ],
   "source": [
    "lm = LinearRegression()\n",
    "evaluate_results(lm, X_train, y_train, X_test, y_test)"
   ]
  },
  {
   "cell_type": "code",
   "execution_count": 6,
   "id": "4a394262",
   "metadata": {},
   "outputs": [
    {
     "name": "stdout",
     "output_type": "stream",
     "text": [
      "MSE Score: 13.983\n",
      "R2 Score: 0.837\n"
     ]
    },
    {
     "data": {
      "image/png": "[encoded data removed]",
      "text/plain": [
       "<Figure size 576x360 with 1 Axes>"
      ]
     },
     "metadata": {
      "needs_background": "light"
     },
     "output_type": "display_data"
    }
   ],
   "source": [
    "pipe = Pipeline([\n",
    "    ('Scale', StandardScaler()), \n",
    "    ('lm', LinearRegression())\n",
    "])\n",
    "\n",
    "evaluate_results(pipe, X_train, y_train, X_test, y_test)"
   ]
  },
  {
   "cell_type": "markdown",
   "id": "4e42af7c",
   "metadata": {},
   "source": [
    "It appears that scaling doesn't seem to impact the results at all. This is not possible as any changes to the underlying data should result in at least minor changes in the results. \n",
    "\n",
    "There is likely an error in the implementation here that is resulting in the scaling not being applied. "
   ]
  },
  {
   "cell_type": "markdown",
   "id": "5d397b58",
   "metadata": {},
   "source": [
    "------------------------"
   ]
  },
  {
   "cell_type": "markdown",
   "id": "733763ae",
   "metadata": {},
   "source": [
    "# OPTIONAL\n",
    "\n",
    "The following steps are optional, and are included to show how to evaluate multiple models for production purposes.\n",
    "\n",
    "In many situations, we would evaluate multiple models with crosss validation, and hyperparameter tuning."
   ]
  },
  {
   "cell_type": "markdown",
   "id": "d27fec8c",
   "metadata": {},
   "source": [
    "# Create ModelContainer Object"
   ]
  },
  {
   "cell_type": "code",
   "execution_count": 7,
   "id": "78efe6b2",
   "metadata": {},
   "outputs": [],
   "source": [
    "class ModelContainer():\n",
    "    \n",
    "    def __init__(self):\n",
    "        self.models = {}\n",
    "        self.mean_mse = {}\n",
    "        self.std_mse = {}\n",
    "        self.best_model = None\n",
    "        self.kfolds = 0\n",
    "\n",
    "        \n",
    "    def add_model(self, model):\n",
    "        '''\n",
    "        Add multiple machine learning models to evaluate\n",
    "        '''\n",
    "        self.models[model[0]] = model[1]\n",
    "\n",
    "        \n",
    "    def get_results(self, X, y, kfolds=5):\n",
    "        '''\n",
    "        Use cross validation to evaluate all the selected models\n",
    "        '''\n",
    "        for model_name, model in self.models.items():\n",
    "            neg_mse = cross_val_score(model, X, y, cv=kfolds, scoring='neg_mean_squared_error')\n",
    "            self.mean_mse[model_name] = -1.0*np.mean(neg_mse)\n",
    "            self.std_mse[model_name] = np.std(neg_mse)\n",
    "            self.kfolds = kfolds\n",
    "            print(model_name, 'cross-validated.')\n",
    "\n",
    "\n",
    "    def print_summary(self):\n",
    "        print('\\nModel Summaries:')\n",
    "        for model_name, model in self.models.items():\n",
    "            print(model_name, ':')\n",
    "            print('Mean MSE over', self.kfolds.n_splits, 'folds:',  self.mean_mse[model_name], '+/-', self.std_mse[model_name],'\\n')"
   ]
  },
  {
   "cell_type": "markdown",
   "id": "48e165ed",
   "metadata": {},
   "source": [
    "# Create Baseline Model"
   ]
  },
  {
   "cell_type": "code",
   "execution_count": 8,
   "id": "3cc4d2c1",
   "metadata": {},
   "outputs": [
    {
     "name": "stdout",
     "output_type": "stream",
     "text": [
      "Linear Regression cross-validated.\n",
      "\n",
      "Model Summaries:\n",
      "Linear Regression :\n",
      "Mean MSE over 10 folds: 14.639191483603529 +/- 2.1131318014593203 \n",
      "\n"
     ]
    }
   ],
   "source": [
    "baseline_model = ModelContainer()\n",
    "baseline_model.add_model(('Linear Regression', LinearRegression()))\n",
    "\n",
    "kf = KFold(n_splits=10)\n",
    "\n",
    "baseline_model.get_results(X_train, y_train, kfolds=kf)\n",
    "\n",
    "baseline_model.print_summary()"
   ]
  },
  {
   "cell_type": "markdown",
   "id": "135ecfb6",
   "metadata": {},
   "source": [
    "# Hyperparameter Tuning"
   ]
  },
  {
   "cell_type": "code",
   "execution_count": 9,
   "id": "c5959515",
   "metadata": {},
   "outputs": [],
   "source": [
    "def tune_hyperparameters(training_data, training_targets, model, param_grid):\n",
    "\n",
    "  random_search = RandomizedSearchCV(\n",
    "      model,\n",
    "      param_distributions=param_grid,\n",
    "      scoring='neg_mean_squared_error',\n",
    "      n_jobs=-1,\n",
    "      n_iter=20,\n",
    "      cv=10)\n",
    "\n",
    "  random_search.fit(np.array(training_data), np.array(training_targets))\n",
    "  print('Best hyperparameters for', model, 'are:')\n",
    "  print(random_search.best_params_)\n",
    "  print('\\n')"
   ]
  },
  {
   "cell_type": "code",
   "execution_count": 10,
   "id": "47621f63",
   "metadata": {},
   "outputs": [],
   "source": [
    "param_ridge = {'alpha':np.arange(1, 1000, 1)}"
   ]
  },
  {
   "cell_type": "code",
   "execution_count": 11,
   "id": "de3e8578",
   "metadata": {},
   "outputs": [
    {
     "name": "stdout",
     "output_type": "stream",
     "text": [
      "Best hyperparameters for Ridge() are:\n",
      "{'alpha': 14}\n",
      "\n",
      "\n"
     ]
    }
   ],
   "source": [
    "tune_hyperparameters(X_train, y_train, Ridge(), param_ridge)"
   ]
  },
  {
   "cell_type": "markdown",
   "id": "2e631ce7",
   "metadata": {},
   "source": [
    "# Retrain Tuned Models"
   ]
  },
  {
   "cell_type": "code",
   "execution_count": 12,
   "id": "9c36e264",
   "metadata": {},
   "outputs": [
    {
     "name": "stdout",
     "output_type": "stream",
     "text": [
      "Linear Regression cross-validated.\n",
      "Ridge Regression cross-validated.\n",
      "\n",
      "Model Summaries:\n",
      "Linear Regression :\n",
      "Mean MSE over 10 folds: 14.639191483603529 +/- 2.1131318014593203 \n",
      "\n",
      "Ridge Regression :\n",
      "Mean MSE over 10 folds: 14.825203933267286 +/- 2.1460358595609086 \n",
      "\n"
     ]
    }
   ],
   "source": [
    "tuned_models = ModelContainer()\n",
    "tuned_models.add_model(('Linear Regression', LinearRegression()))\n",
    "tuned_models.add_model(('Ridge Regression', Ridge(alpha=15)))\n",
    "\n",
    "tuned_models.get_results(X_train, y_train, kfolds=kf)\n",
    "tuned_models.print_summary()"
   ]
  },
  {
   "cell_type": "markdown",
   "id": "a0913bbf",
   "metadata": {},
   "source": [
    "The above is an example of how to evaluate multiple models before making the final prediction. We can choose the ML algorithm that works best and use it to create our final model for deployment as well as evaluate results on the 'unseen' test set. "
   ]
  },
  {
   "cell_type": "code",
   "execution_count": null,
   "id": "298fa5c2",
   "metadata": {},
   "outputs": [],
   "source": []
  }
 ],
 "metadata": {
  "kernelspec": {
   "display_name": "Python 3",
   "language": "python",
   "name": "python3"
  },
  "language_info": {
   "codemirror_mode": {
    "name": "ipython",
    "version": 3
   },
   "file_extension": ".py",
   "mimetype": "text/x-python",
   "name": "python",
   "nbconvert_exporter": "python",
   "pygments_lexer": "ipython3",
   "version": "3.8.8"
  }
 },
 "nbformat": 4,
 "nbformat_minor": 5
}
