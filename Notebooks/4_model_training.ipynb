{
 "cells": [
  {
   "cell_type": "markdown",
   "id": "31b639ed",
   "metadata": {},
   "source": [
    "# Import Packages"
   ]
  },
  {
   "cell_type": "code",
   "execution_count": 1,
   "id": "f964fbd2",
   "metadata": {},
   "outputs": [],
   "source": [
    "import numpy as np\n",
    "import pandas as pd\n",
    "import matplotlib.pyplot as plt\n",
    "import seaborn as sns\n",
    "sns.set()\n",
    "%matplotlib inline\n",
    "\n",
    "import warnings\n",
    "warnings.filterwarnings('ignore')\n",
    "\n",
    "# ML packages\n",
    "from sklearn.model_selection import KFold\n",
    "from sklearn.model_selection import cross_val_score\n",
    "from sklearn.metrics import mean_squared_error\n",
    "from sklearn.linear_model import LinearRegression, Ridge\n",
    "from sklearn.pipeline import make_pipeline, Pipeline\n",
    "from sklearn.preprocessing import MinMaxScaler, RobustScaler, StandardScaler\n",
    "from sklearn.model_selection import GridSearchCV, RandomizedSearchCV\n"
   ]
  },
  {
   "cell_type": "markdown",
   "id": "0b65761b",
   "metadata": {},
   "source": [
    "# Read in Data"
   ]
  },
  {
   "cell_type": "code",
   "execution_count": 2,
   "id": "00e86a7d",
   "metadata": {},
   "outputs": [
    {
     "name": "stdout",
     "output_type": "stream",
     "text": [
      "C:\\Users\\sriha\\OneDrive\\Desktop\\DS\\My work\\life-expectancy\n"
     ]
    }
   ],
   "source": [
    "# Set working directory\n",
    "%cd C:/Users/sriha/OneDrive/Desktop/DS/My work/life-expectancy\n",
    "    \n",
    "# Unpickle engineered train data\n",
    "X_train = pd.read_pickle('Data/X_train_engineered.pkl')\n",
    "\n",
    "# Unpickle engineered test data\n",
    "X_test = pd.read_pickle('Data/X_test_engineered.pkl')\n",
    "\n",
    "# Import target variables\n",
    "y_train = pd.read_pickle('Data/y_train.pkl')\n",
    "y_test = pd.read_pickle('Data/y_test.pkl')"
   ]
  },
  {
   "cell_type": "code",
   "execution_count": 3,
   "id": "80f679a5",
   "metadata": {},
   "outputs": [
    {
     "data": {
      "text/html": [
       "<div>\n",
       "<style scoped>\n",
       "    .dataframe tbody tr th:only-of-type {\n",
       "        vertical-align: middle;\n",
       "    }\n",
       "\n",
       "    .dataframe tbody tr th {\n",
       "        vertical-align: top;\n",
       "    }\n",
       "\n",
       "    .dataframe thead th {\n",
       "        text-align: right;\n",
       "    }\n",
       "</style>\n",
       "<table border=\"1\" class=\"dataframe\">\n",
       "  <thead>\n",
       "    <tr style=\"text-align: right;\">\n",
       "      <th></th>\n",
       "      <th>Year</th>\n",
       "      <th>Adult Mortality</th>\n",
       "      <th>infant deaths</th>\n",
       "      <th>Alcohol</th>\n",
       "      <th>percentage expenditure</th>\n",
       "      <th>Hepatitis B</th>\n",
       "      <th>Measles</th>\n",
       "      <th>under-five deaths</th>\n",
       "      <th>Polio</th>\n",
       "      <th>Total expenditure</th>\n",
       "      <th>Diphtheria</th>\n",
       "      <th>HIV/AIDS</th>\n",
       "      <th>GDP</th>\n",
       "      <th>thinness  1-19 years</th>\n",
       "      <th>thinness 5-9 years</th>\n",
       "      <th>Income composition of resources</th>\n",
       "      <th>Schooling</th>\n",
       "      <th>Status_Developing</th>\n",
       "    </tr>\n",
       "  </thead>\n",
       "  <tbody>\n",
       "    <tr>\n",
       "      <th>2323</th>\n",
       "      <td>2005</td>\n",
       "      <td>4.248495</td>\n",
       "      <td>2.302585</td>\n",
       "      <td>1.49</td>\n",
       "      <td>7.765455</td>\n",
       "      <td>4.574711</td>\n",
       "      <td>3.526361</td>\n",
       "      <td>2.397895</td>\n",
       "      <td>4.574711</td>\n",
       "      <td>3.74</td>\n",
       "      <td>4.574711</td>\n",
       "      <td>0.095310</td>\n",
       "      <td>10.304639</td>\n",
       "      <td>1.131402</td>\n",
       "      <td>1.098612</td>\n",
       "      <td>0.599386</td>\n",
       "      <td>12.6</td>\n",
       "      <td>0</td>\n",
       "    </tr>\n",
       "    <tr>\n",
       "      <th>915</th>\n",
       "      <td>2014</td>\n",
       "      <td>4.369448</td>\n",
       "      <td>2.079442</td>\n",
       "      <td>8.80</td>\n",
       "      <td>8.726717</td>\n",
       "      <td>4.543295</td>\n",
       "      <td>0.000000</td>\n",
       "      <td>2.251292</td>\n",
       "      <td>4.595120</td>\n",
       "      <td>9.68</td>\n",
       "      <td>4.595120</td>\n",
       "      <td>0.095310</td>\n",
       "      <td>10.818089</td>\n",
       "      <td>0.641854</td>\n",
       "      <td>0.587787</td>\n",
       "      <td>0.636577</td>\n",
       "      <td>17.0</td>\n",
       "      <td>1</td>\n",
       "    </tr>\n",
       "    <tr>\n",
       "      <th>2910</th>\n",
       "      <td>2011</td>\n",
       "      <td>5.905362</td>\n",
       "      <td>3.401197</td>\n",
       "      <td>2.57</td>\n",
       "      <td>5.215187</td>\n",
       "      <td>4.406719</td>\n",
       "      <td>9.490620</td>\n",
       "      <td>3.806662</td>\n",
       "      <td>4.430817</td>\n",
       "      <td>4.26</td>\n",
       "      <td>4.406719</td>\n",
       "      <td>1.987874</td>\n",
       "      <td>7.405872</td>\n",
       "      <td>2.028148</td>\n",
       "      <td>2.001480</td>\n",
       "      <td>0.433729</td>\n",
       "      <td>12.0</td>\n",
       "      <td>1</td>\n",
       "    </tr>\n",
       "    <tr>\n",
       "      <th>1764</th>\n",
       "      <td>2015</td>\n",
       "      <td>5.874931</td>\n",
       "      <td>4.110874</td>\n",
       "      <td>1.19</td>\n",
       "      <td>0.000000</td>\n",
       "      <td>2.197225</td>\n",
       "      <td>4.382027</td>\n",
       "      <td>4.406719</td>\n",
       "      <td>2.197225</td>\n",
       "      <td>5.91</td>\n",
       "      <td>2.197225</td>\n",
       "      <td>1.589235</td>\n",
       "      <td>6.271579</td>\n",
       "      <td>1.526056</td>\n",
       "      <td>1.504077</td>\n",
       "      <td>0.346423</td>\n",
       "      <td>9.1</td>\n",
       "      <td>1</td>\n",
       "    </tr>\n",
       "    <tr>\n",
       "      <th>2365</th>\n",
       "      <td>2011</td>\n",
       "      <td>5.231109</td>\n",
       "      <td>2.197225</td>\n",
       "      <td>0.99</td>\n",
       "      <td>5.440983</td>\n",
       "      <td>4.605170</td>\n",
       "      <td>0.000000</td>\n",
       "      <td>2.351375</td>\n",
       "      <td>4.605170</td>\n",
       "      <td>5.80</td>\n",
       "      <td>4.605170</td>\n",
       "      <td>0.095310</td>\n",
       "      <td>7.404789</td>\n",
       "      <td>0.788457</td>\n",
       "      <td>0.788457</td>\n",
       "      <td>0.403463</td>\n",
       "      <td>9.4</td>\n",
       "      <td>1</td>\n",
       "    </tr>\n",
       "  </tbody>\n",
       "</table>\n",
       "</div>"
      ],
      "text/plain": [
       "      Year  Adult Mortality  infant deaths  Alcohol  percentage expenditure  \\\n",
       "2323  2005         4.248495       2.302585     1.49                7.765455   \n",
       "915   2014         4.369448       2.079442     8.80                8.726717   \n",
       "2910  2011         5.905362       3.401197     2.57                5.215187   \n",
       "1764  2015         5.874931       4.110874     1.19                0.000000   \n",
       "2365  2011         5.231109       2.197225     0.99                5.440983   \n",
       "\n",
       "      Hepatitis B  Measles   under-five deaths      Polio  Total expenditure  \\\n",
       "2323     4.574711  3.526361            2.397895  4.574711               3.74   \n",
       "915      4.543295  0.000000            2.251292  4.595120               9.68   \n",
       "2910     4.406719  9.490620            3.806662  4.430817               4.26   \n",
       "1764     2.197225  4.382027            4.406719  2.197225               5.91   \n",
       "2365     4.605170  0.000000            2.351375  4.605170               5.80   \n",
       "\n",
       "      Diphtheria    HIV/AIDS        GDP   thinness  1-19 years  \\\n",
       "2323     4.574711   0.095310  10.304639               1.131402   \n",
       "915      4.595120   0.095310  10.818089               0.641854   \n",
       "2910     4.406719   1.987874   7.405872               2.028148   \n",
       "1764     2.197225   1.589235   6.271579               1.526056   \n",
       "2365     4.605170   0.095310   7.404789               0.788457   \n",
       "\n",
       "       thinness 5-9 years  Income composition of resources  Schooling  \\\n",
       "2323             1.098612                         0.599386       12.6   \n",
       "915              0.587787                         0.636577       17.0   \n",
       "2910             2.001480                         0.433729       12.0   \n",
       "1764             1.504077                         0.346423        9.1   \n",
       "2365             0.788457                         0.403463        9.4   \n",
       "\n",
       "      Status_Developing  \n",
       "2323                  0  \n",
       "915                   1  \n",
       "2910                  1  \n",
       "1764                  1  \n",
       "2365                  1  "
      ]
     },
     "metadata": {},
     "output_type": "display_data"
    },
    {
     "data": {
      "text/html": [
       "<div>\n",
       "<style scoped>\n",
       "    .dataframe tbody tr th:only-of-type {\n",
       "        vertical-align: middle;\n",
       "    }\n",
       "\n",
       "    .dataframe tbody tr th {\n",
       "        vertical-align: top;\n",
       "    }\n",
       "\n",
       "    .dataframe thead th {\n",
       "        text-align: right;\n",
       "    }\n",
       "</style>\n",
       "<table border=\"1\" class=\"dataframe\">\n",
       "  <thead>\n",
       "    <tr style=\"text-align: right;\">\n",
       "      <th></th>\n",
       "      <th>Year</th>\n",
       "      <th>Adult Mortality</th>\n",
       "      <th>infant deaths</th>\n",
       "      <th>Alcohol</th>\n",
       "      <th>percentage expenditure</th>\n",
       "      <th>Hepatitis B</th>\n",
       "      <th>Measles</th>\n",
       "      <th>under-five deaths</th>\n",
       "      <th>Polio</th>\n",
       "      <th>Total expenditure</th>\n",
       "      <th>Diphtheria</th>\n",
       "      <th>HIV/AIDS</th>\n",
       "      <th>GDP</th>\n",
       "      <th>thinness  1-19 years</th>\n",
       "      <th>thinness 5-9 years</th>\n",
       "      <th>Income composition of resources</th>\n",
       "      <th>Schooling</th>\n",
       "      <th>Status_Developing</th>\n",
       "    </tr>\n",
       "  </thead>\n",
       "  <tbody>\n",
       "    <tr>\n",
       "      <th>311</th>\n",
       "      <td>2008</td>\n",
       "      <td>5.356586</td>\n",
       "      <td>2.397895</td>\n",
       "      <td>3.77</td>\n",
       "      <td>0.000000</td>\n",
       "      <td>4.488636</td>\n",
       "      <td>0.000000</td>\n",
       "      <td>2.639057</td>\n",
       "      <td>4.477337</td>\n",
       "      <td>5.00</td>\n",
       "      <td>4.488636</td>\n",
       "      <td>0.182322</td>\n",
       "      <td>7.489565</td>\n",
       "      <td>0.832909</td>\n",
       "      <td>0.741937</td>\n",
       "      <td>0.489806</td>\n",
       "      <td>14.0</td>\n",
       "      <td>1</td>\n",
       "    </tr>\n",
       "    <tr>\n",
       "      <th>1382</th>\n",
       "      <td>2011</td>\n",
       "      <td>3.295837</td>\n",
       "      <td>2.197225</td>\n",
       "      <td>0.53</td>\n",
       "      <td>3.448941</td>\n",
       "      <td>4.564348</td>\n",
       "      <td>0.000000</td>\n",
       "      <td>2.351375</td>\n",
       "      <td>4.564348</td>\n",
       "      <td>1.42</td>\n",
       "      <td>4.605170</td>\n",
       "      <td>0.095310</td>\n",
       "      <td>7.434620</td>\n",
       "      <td>0.095310</td>\n",
       "      <td>0.095310</td>\n",
       "      <td>0.460584</td>\n",
       "      <td>11.9</td>\n",
       "      <td>1</td>\n",
       "    </tr>\n",
       "    <tr>\n",
       "      <th>1290</th>\n",
       "      <td>2007</td>\n",
       "      <td>4.158883</td>\n",
       "      <td>1.098612</td>\n",
       "      <td>8.37</td>\n",
       "      <td>8.562132</td>\n",
       "      <td>4.584967</td>\n",
       "      <td>5.774552</td>\n",
       "      <td>1.098612</td>\n",
       "      <td>4.584967</td>\n",
       "      <td>8.48</td>\n",
       "      <td>4.584967</td>\n",
       "      <td>0.095310</td>\n",
       "      <td>10.537410</td>\n",
       "      <td>0.405465</td>\n",
       "      <td>0.405465</td>\n",
       "      <td>0.621651</td>\n",
       "      <td>16.1</td>\n",
       "      <td>0</td>\n",
       "    </tr>\n",
       "    <tr>\n",
       "      <th>2501</th>\n",
       "      <td>2003</td>\n",
       "      <td>1.945910</td>\n",
       "      <td>1.386294</td>\n",
       "      <td>5.65</td>\n",
       "      <td>1.340021</td>\n",
       "      <td>2.302585</td>\n",
       "      <td>5.860786</td>\n",
       "      <td>1.609438</td>\n",
       "      <td>4.477337</td>\n",
       "      <td>5.71</td>\n",
       "      <td>4.454347</td>\n",
       "      <td>3.943522</td>\n",
       "      <td>3.177824</td>\n",
       "      <td>2.219203</td>\n",
       "      <td>2.240710</td>\n",
       "      <td>0.400788</td>\n",
       "      <td>9.1</td>\n",
       "      <td>1</td>\n",
       "    </tr>\n",
       "    <tr>\n",
       "      <th>1585</th>\n",
       "      <td>2000</td>\n",
       "      <td>6.378426</td>\n",
       "      <td>3.951244</td>\n",
       "      <td>1.18</td>\n",
       "      <td>2.692104</td>\n",
       "      <td>4.521789</td>\n",
       "      <td>5.720312</td>\n",
       "      <td>4.442651</td>\n",
       "      <td>4.304065</td>\n",
       "      <td>6.70</td>\n",
       "      <td>4.330733</td>\n",
       "      <td>3.277145</td>\n",
       "      <td>5.038636</td>\n",
       "      <td>2.197225</td>\n",
       "      <td>2.186051</td>\n",
       "      <td>0.330023</td>\n",
       "      <td>10.7</td>\n",
       "      <td>1</td>\n",
       "    </tr>\n",
       "  </tbody>\n",
       "</table>\n",
       "</div>"
      ],
      "text/plain": [
       "      Year  Adult Mortality  infant deaths  Alcohol  percentage expenditure  \\\n",
       "311   2008         5.356586       2.397895     3.77                0.000000   \n",
       "1382  2011         3.295837       2.197225     0.53                3.448941   \n",
       "1290  2007         4.158883       1.098612     8.37                8.562132   \n",
       "2501  2003         1.945910       1.386294     5.65                1.340021   \n",
       "1585  2000         6.378426       3.951244     1.18                2.692104   \n",
       "\n",
       "      Hepatitis B  Measles   under-five deaths      Polio  Total expenditure  \\\n",
       "311      4.488636  0.000000            2.639057  4.477337               5.00   \n",
       "1382     4.564348  0.000000            2.351375  4.564348               1.42   \n",
       "1290     4.584967  5.774552            1.098612  4.584967               8.48   \n",
       "2501     2.302585  5.860786            1.609438  4.477337               5.71   \n",
       "1585     4.521789  5.720312            4.442651  4.304065               6.70   \n",
       "\n",
       "      Diphtheria    HIV/AIDS        GDP   thinness  1-19 years  \\\n",
       "311      4.488636   0.182322   7.489565               0.832909   \n",
       "1382     4.605170   0.095310   7.434620               0.095310   \n",
       "1290     4.584967   0.095310  10.537410               0.405465   \n",
       "2501     4.454347   3.943522   3.177824               2.219203   \n",
       "1585     4.330733   3.277145   5.038636               2.197225   \n",
       "\n",
       "       thinness 5-9 years  Income composition of resources  Schooling  \\\n",
       "311              0.741937                         0.489806       14.0   \n",
       "1382             0.095310                         0.460584       11.9   \n",
       "1290             0.405465                         0.621651       16.1   \n",
       "2501             2.240710                         0.400788        9.1   \n",
       "1585             2.186051                         0.330023       10.7   \n",
       "\n",
       "      Status_Developing  \n",
       "311                   1  \n",
       "1382                  1  \n",
       "1290                  0  \n",
       "2501                  1  \n",
       "1585                  1  "
      ]
     },
     "metadata": {},
     "output_type": "display_data"
    }
   ],
   "source": [
    "display(X_train.head())\n",
    "display(X_test.head())"
   ]
  },
  {
   "cell_type": "markdown",
   "id": "507e6c59",
   "metadata": {},
   "source": [
    "# Train and Evaluate Models\n",
    "\n",
    "Let's say we pick the linear regression model for our purposes. Now we train our model of choice on the entire training set, and make predictions on the test set. "
   ]
  },
  {
   "cell_type": "code",
   "execution_count": 4,
   "id": "7845a869",
   "metadata": {},
   "outputs": [],
   "source": [
    "def evaluate_results(model, train_data, train_results, test_data, test_results):\n",
    "    \n",
    "    # Fit model\n",
    "    model.fit(train_data, train_results)\n",
    "    \n",
    "    # Make predictions\n",
    "    predictions = model.predict(test_data)\n",
    "    \n",
    "    # Evaluate results\n",
    "    print(\"MSE Score:\", format(mean_squared_error(test_results, predictions),'.3f'))\n",
    "    print(f\"Train accuracy: {round(model.score(train_data, train_results)*100,2)}%\")\n",
    "    print(f\"Test accuracy: {round(model.score(test_data, test_results)*100,2)}%\")\n",
    "    \n",
    "    # Visulaize results\n",
    "    plt.figure(figsize=(8,5))\n",
    "    plt.scatter(predictions,test_results)\n",
    "    plt.title('Predicted vs. Real y', fontsize=14)\n",
    "    plt.xlabel('Real y',fontsize=12)\n",
    "    plt.ylabel('Predicted y',fontsize=12)"
   ]
  },
  {
   "cell_type": "code",
   "execution_count": 5,
   "id": "c8e1f438",
   "metadata": {},
   "outputs": [
    {
     "name": "stdout",
     "output_type": "stream",
     "text": [
      "MSE Score: 14.421\n",
      "Train accuracy: 84.04%\n",
      "Test accuracy: 83.63%\n"
     ]
    },
    {
     "data": {
      "image/png": "[encoded data removed]",
      "text/plain": [
       "<Figure size 576x360 with 1 Axes>"
      ]
     },
     "metadata": {
      "needs_background": "light"
     },
     "output_type": "display_data"
    }
   ],
   "source": [
    "lm = LinearRegression()\n",
    "evaluate_results(lm, X_train, y_train, X_test, y_test)"
   ]
  },
  {
   "cell_type": "code",
   "execution_count": 6,
   "id": "4a394262",
   "metadata": {},
   "outputs": [
    {
     "name": "stdout",
     "output_type": "stream",
     "text": [
      "MSE Score: 14.421\n",
      "Train accuracy: 84.04%\n",
      "Test accuracy: 83.63%\n"
     ]
    },
    {
     "data": {
      "image/png": "[encoded data removed]",
      "text/plain": [
       "<Figure size 576x360 with 1 Axes>"
      ]
     },
     "metadata": {
      "needs_background": "light"
     },
     "output_type": "display_data"
    }
   ],
   "source": [
    "pipe = Pipeline([\n",
    "    ('Scale', StandardScaler()), \n",
    "    ('lm', LinearRegression())\n",
    "])\n",
    "\n",
    "evaluate_results(pipe, X_train, y_train, X_test, y_test)"
   ]
  },
  {
   "cell_type": "markdown",
   "id": "4e42af7c",
   "metadata": {},
   "source": [
    "It appears that scaling doesn't seem to impact the results at all. This is not possible as any changes to the underlying data should result in at least minor changes in the results. \n",
    "\n",
    "There is likely an error in the implementation here that is resulting in the scaling not being applied. "
   ]
  },
  {
   "cell_type": "markdown",
   "id": "5d397b58",
   "metadata": {},
   "source": [
    "------------------------"
   ]
  },
  {
   "cell_type": "markdown",
   "id": "733763ae",
   "metadata": {},
   "source": [
    "# OPTIONAL\n",
    "\n",
    "The following steps are optional, and are included to show how to evaluate multiple models for production purposes.\n",
    "\n",
    "In many situations, we would evaluate multiple models with crosss validation, and hyperparameter tuning."
   ]
  },
  {
   "cell_type": "markdown",
   "id": "d27fec8c",
   "metadata": {},
   "source": [
    "# Create ModelContainer Object"
   ]
  },
  {
   "cell_type": "code",
   "execution_count": 7,
   "id": "78efe6b2",
   "metadata": {},
   "outputs": [],
   "source": [
    "class ModelContainer():\n",
    "    \n",
    "    def __init__(self):\n",
    "        self.models = {}\n",
    "        self.mean_mse = {}\n",
    "        self.std_mse = {}\n",
    "        self.best_model = None\n",
    "        self.kfolds = 0\n",
    "\n",
    "        \n",
    "    def add_model(self, model):\n",
    "        '''\n",
    "        Add multiple machine learning models to evaluate\n",
    "        '''\n",
    "        self.models[model[0]] = model[1]\n",
    "\n",
    "        \n",
    "    def get_results(self, X, y, kfolds=5):\n",
    "        '''\n",
    "        Use cross validation to evaluate all the selected models\n",
    "        '''\n",
    "        for model_name, model in self.models.items():\n",
    "            neg_mse = cross_val_score(model, X, y, cv=kfolds, scoring='neg_mean_squared_error')\n",
    "            self.mean_mse[model_name] = -1.0*np.mean(neg_mse)\n",
    "            self.std_mse[model_name] = np.std(neg_mse)\n",
    "            self.kfolds = kfolds\n",
    "            print(model_name, 'cross-validated.')\n",
    "\n",
    "\n",
    "    def print_summary(self):\n",
    "        print('\\nModel Summaries:')\n",
    "        for model_name, model in self.models.items():\n",
    "            print(model_name, ':')\n",
    "            print('Mean MSE over', self.kfolds.n_splits, 'folds:',  self.mean_mse[model_name], '+/-', self.std_mse[model_name],'\\n')"
   ]
  },
  {
   "cell_type": "markdown",
   "id": "48e165ed",
   "metadata": {},
   "source": [
    "# Create Baseline Model"
   ]
  },
  {
   "cell_type": "code",
   "execution_count": 8,
   "id": "3cc4d2c1",
   "metadata": {},
   "outputs": [
    {
     "name": "stdout",
     "output_type": "stream",
     "text": [
      "Linear Regression cross-validated.\n",
      "\n",
      "Model Summaries:\n",
      "Linear Regression :\n",
      "Mean MSE over 10 folds: 14.870644154578557 +/- 1.7502304958778991 \n",
      "\n"
     ]
    }
   ],
   "source": [
    "baseline_model = ModelContainer()\n",
    "baseline_model.add_model(('Linear Regression', LinearRegression()))\n",
    "\n",
    "kf = KFold(n_splits=10)\n",
    "\n",
    "baseline_model.get_results(X_train, y_train, kfolds=kf)\n",
    "\n",
    "baseline_model.print_summary()"
   ]
  },
  {
   "cell_type": "markdown",
   "id": "135ecfb6",
   "metadata": {},
   "source": [
    "# Hyperparameter Tuning"
   ]
  },
  {
   "cell_type": "code",
   "execution_count": 9,
   "id": "c5959515",
   "metadata": {},
   "outputs": [],
   "source": [
    "def tune_hyperparameters(training_data, training_targets, model, param_grid):\n",
    "\n",
    "  random_search = RandomizedSearchCV(\n",
    "      model,\n",
    "      param_distributions=param_grid,\n",
    "      scoring='neg_mean_squared_error',\n",
    "      n_jobs=-1,\n",
    "      n_iter=20,\n",
    "      cv=10)\n",
    "\n",
    "  random_search.fit(np.array(training_data), np.array(training_targets))\n",
    "  print('Best hyperparameters for', model, 'are:')\n",
    "  print(random_search.best_params_)\n",
    "  print('\\n')"
   ]
  },
  {
   "cell_type": "code",
   "execution_count": 10,
   "id": "47621f63",
   "metadata": {},
   "outputs": [],
   "source": [
    "param_ridge = {'alpha':np.arange(1, 1000, 1)}"
   ]
  },
  {
   "cell_type": "code",
   "execution_count": 11,
   "id": "de3e8578",
   "metadata": {},
   "outputs": [
    {
     "name": "stdout",
     "output_type": "stream",
     "text": [
      "Best hyperparameters for Ridge() are:\n",
      "{'alpha': 54}\n",
      "\n",
      "\n"
     ]
    }
   ],
   "source": [
    "tune_hyperparameters(X_train, y_train, Ridge(), param_ridge)"
   ]
  },
  {
   "cell_type": "markdown",
   "id": "2e631ce7",
   "metadata": {},
   "source": [
    "# Retrain Tuned Models"
   ]
  },
  {
   "cell_type": "code",
   "execution_count": 12,
   "id": "9c36e264",
   "metadata": {},
   "outputs": [
    {
     "name": "stdout",
     "output_type": "stream",
     "text": [
      "Linear Regression cross-validated.\n",
      "Ridge Regression cross-validated.\n",
      "\n",
      "Model Summaries:\n",
      "Linear Regression :\n",
      "Mean MSE over 10 folds: 14.870644154578557 +/- 1.7502304958778991 \n",
      "\n",
      "Ridge Regression :\n",
      "Mean MSE over 10 folds: 14.951313120038105 +/- 1.7718967153435246 \n",
      "\n"
     ]
    }
   ],
   "source": [
    "tuned_models = ModelContainer()\n",
    "tuned_models.add_model(('Linear Regression', LinearRegression()))\n",
    "tuned_models.add_model(('Ridge Regression', Ridge(alpha=15)))\n",
    "\n",
    "tuned_models.get_results(X_train, y_train, kfolds=kf)\n",
    "tuned_models.print_summary()"
   ]
  },
  {
   "cell_type": "markdown",
   "id": "a0913bbf",
   "metadata": {},
   "source": [
    "The above is an example of how to evaluate multiple models before making the final prediction. We can choose the ML algorithm that works best and use it to create our final model for deployment as well as evaluate results on the 'unseen' test set. "
   ]
  }
 ],
 "metadata": {
  "kernelspec": {
   "display_name": "Python 3",
   "language": "python",
   "name": "python3"
  },
  "language_info": {
   "codemirror_mode": {
    "name": "ipython",
    "version": 3
   },
   "file_extension": ".py",
   "mimetype": "text/x-python",
   "name": "python",
   "nbconvert_exporter": "python",
   "pygments_lexer": "ipython3",
   "version": "3.8.8"
  }
 },
 "nbformat": 4,
 "nbformat_minor": 5
}
